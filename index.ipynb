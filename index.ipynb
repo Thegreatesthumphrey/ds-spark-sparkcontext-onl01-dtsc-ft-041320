{
  "nbformat": 4,
  "nbformat_minor": 0,
  "metadata": {
    "kernelspec": {
      "display_name": "Python 3",
      "language": "python",
      "name": "python3"
    },
    "language_info": {
      "codemirror_mode": {
        "name": "ipython",
        "version": 3
      },
      "file_extension": ".py",
      "mimetype": "text/x-python",
      "name": "python",
      "nbconvert_exporter": "python",
      "pygments_lexer": "ipython3",
      "version": "3.6.4"
    },
    "colab": {
      "name": "index.ipynb",
      "provenance": [],
      "toc_visible": true,
      "include_colab_link": true
    }
  },
  "cells": [
    {
      "cell_type": "markdown",
      "metadata": {
        "id": "view-in-github",
        "colab_type": "text"
      },
      "source": [
        "<a href=\"https://colab.research.google.com/github/Thegreatesthumphrey/ds-spark-sparkcontext-onl01-dtsc-ft-041320/blob/master/index.ipynb\" target=\"_parent\"><img src=\"https://colab.research.google.com/assets/colab-badge.svg\" alt=\"Open In Colab\"/></a>"
      ]
    },
    {
      "cell_type": "code",
      "metadata": {
        "id": "59eIcdMCm11d",
        "colab_type": "code",
        "colab": {}
      },
      "source": [
        "!apt-get install openjdk-8-jdk-headless -qq > /dev/null\n",
        "!wget -q https://archive.apache.org/dist/spark/spark-2.4.5/spark-2.4.5-bin-hadoop2.7.tgz\n",
        "!tar xf spark-2.4.5-bin-hadoop2.7.tgz\n",
        "!pip install -q findspark"
      ],
      "execution_count": 4,
      "outputs": []
    },
    {
      "cell_type": "code",
      "metadata": {
        "id": "X1g0aTPrm1nm",
        "colab_type": "code",
        "colab": {
          "base_uri": "https://localhost:8080/",
          "height": 35
        },
        "outputId": "c6c0bb1b-a352-47cd-d0c2-adc4d777e2de"
      },
      "source": [
        "import pyspark\n",
        "\n",
        "pyspark.__version__"
      ],
      "execution_count": 7,
      "outputs": [
        {
          "output_type": "execute_result",
          "data": {
            "application/vnd.google.colaboratory.intrinsic": {
              "type": "string"
            },
            "text/plain": [
              "'2.4.5'"
            ]
          },
          "metadata": {
            "tags": []
          },
          "execution_count": 7
        }
      ]
    },
    {
      "cell_type": "code",
      "metadata": {
        "id": "i66PKrm6m1gL",
        "colab_type": "code",
        "colab": {
          "base_uri": "https://localhost:8080/",
          "height": 258
        },
        "outputId": "3ca32c6e-211e-4e7c-edc6-2b432e0377d2"
      },
      "source": [
        "!pip install pyspark==2.4.5"
      ],
      "execution_count": 6,
      "outputs": [
        {
          "output_type": "stream",
          "text": [
            "Collecting pyspark==2.4.5\n",
            "\u001b[?25l  Downloading https://files.pythonhosted.org/packages/9a/5a/271c416c1c2185b6cb0151b29a91fff6fcaed80173c8584ff6d20e46b465/pyspark-2.4.5.tar.gz (217.8MB)\n",
            "\u001b[K     |████████████████████████████████| 217.8MB 60kB/s \n",
            "\u001b[?25hCollecting py4j==0.10.7\n",
            "\u001b[?25l  Downloading https://files.pythonhosted.org/packages/e3/53/c737818eb9a7dc32a7cd4f1396e787bd94200c3997c72c1dbe028587bd76/py4j-0.10.7-py2.py3-none-any.whl (197kB)\n",
            "\u001b[K     |████████████████████████████████| 204kB 42.8MB/s \n",
            "\u001b[?25hBuilding wheels for collected packages: pyspark\n",
            "  Building wheel for pyspark (setup.py) ... \u001b[?25l\u001b[?25hdone\n",
            "  Created wheel for pyspark: filename=pyspark-2.4.5-py2.py3-none-any.whl size=218257927 sha256=584064a9927e1cd322acf3a44407ac85b342bd5631b6d4f2232cba1e972650e4\n",
            "  Stored in directory: /root/.cache/pip/wheels/bf/db/04/61d66a5939364e756eb1c1be4ec5bdce6e04047fc7929a3c3c\n",
            "Successfully built pyspark\n",
            "Installing collected packages: py4j, pyspark\n",
            "Successfully installed py4j-0.10.7 pyspark-2.4.5\n"
          ],
          "name": "stdout"
        }
      ]
    },
    {
      "cell_type": "code",
      "metadata": {
        "id": "bkEE-6ojm1a5",
        "colab_type": "code",
        "colab": {}
      },
      "source": [
        "import os\n",
        "# /usr/lib/jvm/java-8-openjdk-amd64\n",
        "os.environ[\"JAVA_HOME\"] = \"/usr/lib/jvm/java-8-openjdk-amd64\"\n",
        "# /content/spark-2.4.5-bin-hadoop2.7\n",
        "os.environ[\"SPARK_HOME\"] = \"/content/spark-2.4.5-bin-hadoop2.7\""
      ],
      "execution_count": 8,
      "outputs": []
    },
    {
      "cell_type": "code",
      "metadata": {
        "id": "nBu832Qym1Wn",
        "colab_type": "code",
        "colab": {}
      },
      "source": [
        "import findspark\n",
        "findspark.init()"
      ],
      "execution_count": 9,
      "outputs": []
    },
    {
      "cell_type": "code",
      "metadata": {
        "id": "y-nx6_LLm1Lj",
        "colab_type": "code",
        "colab": {}
      },
      "source": [
        "import pyspark \n",
        "sc = pyspark.SparkContext('local[*]') # [*] represents a local context i.e. no cluster"
      ],
      "execution_count": 10,
      "outputs": []
    },
    {
      "cell_type": "code",
      "metadata": {
        "id": "vjgMI6mMo271",
        "colab_type": "code",
        "colab": {
          "base_uri": "https://localhost:8080/",
          "height": 51
        },
        "outputId": "d779800b-37e4-4ef6-fdc4-c90b8381c066"
      },
      "source": [
        "sc, type(sc)"
      ],
      "execution_count": 11,
      "outputs": [
        {
          "output_type": "execute_result",
          "data": {
            "text/plain": [
              "(<SparkContext master=local[*] appName=pyspark-shell>,\n",
              " pyspark.context.SparkContext)"
            ]
          },
          "metadata": {
            "tags": []
          },
          "execution_count": 11
        }
      ]
    },
    {
      "cell_type": "markdown",
      "metadata": {
        "id": "FxH1PfCMmYuX",
        "colab_type": "text"
      },
      "source": [
        "# Understanding Spark and `SparkContext( )`\n",
        "\n",
        "## OBJECTIVES\n",
        "\n",
        "* Describe Spark's parallalism with master and executor nodes. \n",
        "* Understand `SparkContext()` for managing connections in parallel applications. \n",
        "* Provide an overview of major `SparkContext()` properties and methods.  \n",
        "\n",
        "### Introduction\n",
        "\n",
        "The PySpark series of lessons and labs will provide you with an introduction to **Apache Spark**, the leading framework for big data processing in jupyter notebooks and PySpark, using a PySpark docker image in a standalone mode. \n",
        "\n",
        "Spark comes bundled with a **Cluster Resource Manager** which can divide and share the physical resources of a cluster of machines between multiple Spark applications. Spark's **Standalone cluster manager** operates in the standalone mode and allows Spark to manage its own cluster. \n",
        "\n",
        "In Spark computational model, communication routinely occurs between a **driver** and **executors**. The driver has Spark jobs that it needs to run and these jobs are split into tasks that are submitted to the executors for completion. The results from these tasks are delivered back to the driver. The spark driver declares the transformations and actions on data and submits such requests to the **master**. The machine on which the Spark Standalone cluster manager runs is called the **Master Node**. For these labs, this distributed arrangement will be simulated on a single machine allowing you to initialize multiple worker nodes. \n",
        "\n",
        "### `SparkContext( )`\n",
        "In order to use Spark and its API we will need to use a **SparkContext**. A SparkContext is a client of Spark’s execution environment and it acts as the master of the Spark application. SparkContext sets up internal services and establishes a connection to a Spark execution environment. In practical terms, the driver is the program that creates the SparkContext, connecting to a given Spark Master. \n",
        "\n",
        "When running Spark, we can start a new Spark application by creating a new SparkContext. After creation, it asks the master for some cores to use to do work. The master sets these cores aside and they don't get used for other applications. This setup is described in the figure below\n",
        "\n",
        "![](https://github.com/Thegreatesthumphrey/ds-spark-sparkcontext-onl01-dtsc-ft-041320/blob/master/executors.png?raw=1)"
      ]
    },
    {
      "cell_type": "code",
      "metadata": {
        "id": "acj7or1CmzVy",
        "colab_type": "code",
        "colab": {}
      },
      "source": [
        ""
      ],
      "execution_count": null,
      "outputs": []
    },
    {
      "cell_type": "markdown",
      "metadata": {
        "id": "_8petTe2mYuY",
        "colab_type": "text"
      },
      "source": [
        "Spark applications driver program launches various parallel operations on executor Java Virtual Machines (JVMs) running either in a cluster or locally on the same machine. When running locally, \"PySparkShell\" is the driver program. In all cases, this driver program contains the main loop for the program and creates distributed datasets on the cluster, then applies operations (transformations & actions) to those datasets. Driver programs access Spark through the `SparkContext` object, which represents a connection to a computing cluster. A SparkContext object (usually shown as `sc`) is the main entry point for Spark functionality. A Spark context can be used to create Resilient Distributed Datasets (RDDs) on a cluster.\n",
        "\n",
        "\n",
        "Lets start a spark application by importing pyspark, creating a spark context as `sc` and try printing out type of `sc`."
      ]
    },
    {
      "cell_type": "code",
      "metadata": {
        "id": "_sQViTOjmYuY",
        "colab_type": "code",
        "colab": {}
      },
      "source": [
        "import pyspark\n",
        "sc = pyspark.SparkContext('local[*]')"
      ],
      "execution_count": null,
      "outputs": []
    },
    {
      "cell_type": "code",
      "metadata": {
        "id": "dgTzDSL_mv-5",
        "colab_type": "code",
        "colab": {}
      },
      "source": [
        ""
      ],
      "execution_count": null,
      "outputs": []
    },
    {
      "cell_type": "code",
      "metadata": {
        "id": "k4gceaU4mYud",
        "colab_type": "code",
        "colab": {
          "base_uri": "https://localhost:8080/",
          "height": 34
        },
        "outputId": "eb7329ad-deb9-4380-b11f-50e447f4b5dc"
      },
      "source": [
        "# Display the type of the Spark Context\n",
        "\n",
        "type(sc)\n",
        "pyspark.context.SparkContext"
      ],
      "execution_count": 14,
      "outputs": [
        {
          "output_type": "execute_result",
          "data": {
            "text/plain": [
              "pyspark.context.SparkContext"
            ]
          },
          "metadata": {
            "tags": []
          },
          "execution_count": 14
        }
      ]
    },
    {
      "cell_type": "markdown",
      "metadata": {
        "id": "427KYt9kmYug",
        "colab_type": "text"
      },
      "source": [
        "### SparkContext attributes\n",
        "\n",
        "You can use Python's `dir()` function to get a list of all the attributes (including methods) accessible through the sc object."
      ]
    },
    {
      "cell_type": "code",
      "metadata": {
        "scrolled": true,
        "id": "oldtdxjumYug",
        "colab_type": "code",
        "colab": {
          "base_uri": "https://localhost:8080/",
          "height": 1000
        },
        "outputId": "395a4f28-a940-450b-92f4-a832fc2517fb"
      },
      "source": [
        "# Use Python's dir(obj) to get a list of all attributes of SparkContext\n",
        "dir(sc)"
      ],
      "execution_count": 20,
      "outputs": [
        {
          "output_type": "execute_result",
          "data": {
            "text/plain": [
              "['PACKAGE_EXTENSIONS',\n",
              " '__class__',\n",
              " '__delattr__',\n",
              " '__dict__',\n",
              " '__dir__',\n",
              " '__doc__',\n",
              " '__enter__',\n",
              " '__eq__',\n",
              " '__exit__',\n",
              " '__format__',\n",
              " '__ge__',\n",
              " '__getattribute__',\n",
              " '__getnewargs__',\n",
              " '__gt__',\n",
              " '__hash__',\n",
              " '__init__',\n",
              " '__init_subclass__',\n",
              " '__le__',\n",
              " '__lt__',\n",
              " '__module__',\n",
              " '__ne__',\n",
              " '__new__',\n",
              " '__reduce__',\n",
              " '__reduce_ex__',\n",
              " '__repr__',\n",
              " '__setattr__',\n",
              " '__sizeof__',\n",
              " '__str__',\n",
              " '__subclasshook__',\n",
              " '__weakref__',\n",
              " '_accumulatorServer',\n",
              " '_active_spark_context',\n",
              " '_batchSize',\n",
              " '_callsite',\n",
              " '_checkpointFile',\n",
              " '_conf',\n",
              " '_dictToJavaMap',\n",
              " '_do_init',\n",
              " '_encryption_enabled',\n",
              " '_ensure_initialized',\n",
              " '_gateway',\n",
              " '_getJavaStorageLevel',\n",
              " '_initialize_context',\n",
              " '_javaAccumulator',\n",
              " '_jsc',\n",
              " '_jvm',\n",
              " '_lock',\n",
              " '_next_accum_id',\n",
              " '_pickled_broadcast_vars',\n",
              " '_python_includes',\n",
              " '_repr_html_',\n",
              " '_serialize_to_jvm',\n",
              " '_temp_dir',\n",
              " '_unbatched_serializer',\n",
              " 'accumulator',\n",
              " 'addFile',\n",
              " 'addPyFile',\n",
              " 'appName',\n",
              " 'applicationId',\n",
              " 'binaryFiles',\n",
              " 'binaryRecords',\n",
              " 'broadcast',\n",
              " 'cancelAllJobs',\n",
              " 'cancelJobGroup',\n",
              " 'defaultMinPartitions',\n",
              " 'defaultParallelism',\n",
              " 'dump_profiles',\n",
              " 'emptyRDD',\n",
              " 'environment',\n",
              " 'getConf',\n",
              " 'getLocalProperty',\n",
              " 'getOrCreate',\n",
              " 'hadoopFile',\n",
              " 'hadoopRDD',\n",
              " 'master',\n",
              " 'newAPIHadoopFile',\n",
              " 'newAPIHadoopRDD',\n",
              " 'parallelize',\n",
              " 'pickleFile',\n",
              " 'profiler_collector',\n",
              " 'pythonExec',\n",
              " 'pythonVer',\n",
              " 'range',\n",
              " 'runJob',\n",
              " 'sequenceFile',\n",
              " 'serializer',\n",
              " 'setCheckpointDir',\n",
              " 'setJobDescription',\n",
              " 'setJobGroup',\n",
              " 'setLocalProperty',\n",
              " 'setLogLevel',\n",
              " 'setSystemProperty',\n",
              " 'show_profiles',\n",
              " 'sparkHome',\n",
              " 'sparkUser',\n",
              " 'startTime',\n",
              " 'statusTracker',\n",
              " 'stop',\n",
              " 'textFile',\n",
              " 'uiWebUrl',\n",
              " 'union',\n",
              " 'version',\n",
              " 'wholeTextFiles']"
            ]
          },
          "metadata": {
            "tags": []
          },
          "execution_count": 20
        }
      ]
    },
    {
      "cell_type": "markdown",
      "metadata": {
        "id": "7gKgnNQ3mYul",
        "colab_type": "text"
      },
      "source": [
        "Alternatively, you can use Python's `help()` function to get an easier to read list of all the attributes, including examples, that the sc object has."
      ]
    },
    {
      "cell_type": "code",
      "metadata": {
        "id": "eKRazTOHmYum",
        "colab_type": "code",
        "colab": {
          "base_uri": "https://localhost:8080/",
          "height": 376
        },
        "outputId": "34d91c55-76a6-4e2f-8457-f89f7b8c116e"
      },
      "source": [
        "# Use Python's help ( help(object) ) function to get information on attributes and methods for sc object. \n",
        "help(sc)"
      ],
      "execution_count": 19,
      "outputs": [
        {
          "output_type": "stream",
          "text": [
            "\n",
            "Welcome to Python 3.6's help utility!\n",
            "\n",
            "If this is your first time using Python, you should definitely check out\n",
            "the tutorial on the Internet at https://docs.python.org/3.6/tutorial/.\n",
            "\n",
            "Enter the name of any module, keyword, or topic to get help on writing\n",
            "Python programs and using Python modules.  To quit this help utility and\n",
            "return to the interpreter, just type \"quit\".\n",
            "\n",
            "To get a list of available modules, keywords, symbols, or topics, type\n",
            "\"modules\", \"keywords\", \"symbols\", or \"topics\".  Each module also comes\n",
            "with a one-line summary of what it does; to list the modules whose name\n",
            "or summary contain a given string such as \"spam\", type \"modules spam\".\n",
            "\n",
            "\n",
            "You are now leaving help and returning to the Python interpreter.\n",
            "If you want to ask for help on a particular object directly from the\n",
            "interpreter, you can type \"help(object)\".  Executing \"help('string')\"\n",
            "has the same effect as typing a particular string at the help> prompt.\n"
          ],
          "name": "stdout"
        }
      ]
    },
    {
      "cell_type": "markdown",
      "metadata": {
        "id": "N0L0PqSDmYuq",
        "colab_type": "text"
      },
      "source": [
        "You should also have a look at [Spark's SparkContext Documentation Page](https://spark.apache.org/docs/0.6.0/api/core/spark/SparkContext.html) to explore these in further detail.\n",
        "\n",
        "Let's try to check a few spark context attributes including `SparkContext.version` and `SparkContext.default paralellism` to check the current version of Apache Spark and number of cores being used for parallel processing. \n"
      ]
    },
    {
      "cell_type": "code",
      "metadata": {
        "id": "zoM5wXwFmYuq",
        "colab_type": "code",
        "colab": {
          "base_uri": "https://localhost:8080/",
          "height": 34
        },
        "outputId": "4cc4afd8-1875-4f8a-df37-f1cc9ebc6c85"
      },
      "source": [
        "# Check the number of cores being used\n",
        "sc.version\n",
        "\n",
        "# Check for the current version of Spark\n",
        "\n",
        "sc.defaultParallelism\n",
        "# Default number of cores being used: 2\n",
        "# Current version of Spark: 2.3.1"
      ],
      "execution_count": 28,
      "outputs": [
        {
          "output_type": "execute_result",
          "data": {
            "text/plain": [
              "2"
            ]
          },
          "metadata": {
            "tags": []
          },
          "execution_count": 28
        }
      ]
    },
    {
      "cell_type": "markdown",
      "metadata": {
        "id": "K1BrqdAvmYus",
        "colab_type": "text"
      },
      "source": [
        "Let's also check the name of current application by using `SparkContext.appName` attribute. "
      ]
    },
    {
      "cell_type": "code",
      "metadata": {
        "id": "7cR2sJIsmYut",
        "colab_type": "code",
        "colab": {
          "base_uri": "https://localhost:8080/",
          "height": 35
        },
        "outputId": "d3984ad3-f44c-421d-9e6a-c8ff41968058"
      },
      "source": [
        "# Check the name of application currently running in spark environment\n",
        "sc.appName\n",
        "\n",
        "# 'pyspark-shell'"
      ],
      "execution_count": 29,
      "outputs": [
        {
          "output_type": "execute_result",
          "data": {
            "application/vnd.google.colaboratory.intrinsic": {
              "type": "string"
            },
            "text/plain": [
              "'pyspark-shell'"
            ]
          },
          "metadata": {
            "tags": []
          },
          "execution_count": 29
        }
      ]
    },
    {
      "cell_type": "markdown",
      "metadata": {
        "id": "S4Nwpo9-mYuw",
        "colab_type": "text"
      },
      "source": [
        "A Spark Context can be shut down using `SparkContext.stop()` method. Let's use this method to shut down the current spark context. "
      ]
    },
    {
      "cell_type": "code",
      "metadata": {
        "id": "iKl3UemxmYuw",
        "colab_type": "code",
        "colab": {}
      },
      "source": [
        "#Shut down SparkContext\n",
        "sc.stop()"
      ],
      "execution_count": 30,
      "outputs": []
    },
    {
      "cell_type": "markdown",
      "metadata": {
        "id": "4gGaIVPGmYu0",
        "colab_type": "text"
      },
      "source": [
        "Once shut down, you can no longer access spark functionality before starting a new SparkContext. \n",
        "\n",
        "### Summary:\n",
        "\n",
        "In this short lab, we saw how SparkContext is used as an entry point to Spark applications. We learnt how to start a SparkContext, how to list and use some of the attributes and methods in SparkContext and how to shut it down. Students are encouraged to explore other attributes and methods offered by the sc object. Some of these, namely creating and transforming datasets as RDDs will be explored in later labs. "
      ]
    }
  ]
}